{
 "cells": [
  {
   "cell_type": "markdown",
   "id": "b9f58c87-8c8f-444b-99da-f467c6b6556e",
   "metadata": {},
   "source": [
    "PROJECT: Pulling Data From SQL Database Using Python\n",
    "\n",
    "TASKS:\n",
    "1. Establish a connection with the SQL Server.\n",
    "2. Explore the following two methods in fetching the SQL data:\n",
    "    a. Write a typical python program to print the data.\n",
    "    b. Read the data into a pandas dataframe."
   ]
  },
  {
   "cell_type": "code",
   "execution_count": 1,
   "id": "0c968508-20e2-45fd-8257-10e69a531750",
   "metadata": {},
   "outputs": [],
   "source": [
    "import pyodbc #python library or module which make accessing ODBC databases simple.\n",
    "import pandas as pd #library for reading data into a dataframe, and for performing data manipulation and analysis."
   ]
  },
  {
   "cell_type": "code",
   "execution_count": 2,
   "id": "2347d93e-39c1-4d65-a7ec-fb35e9894c25",
   "metadata": {},
   "outputs": [
    {
     "data": {
      "text/plain": [
       "['SQL Server',\n",
       " 'SQL Server Native Client RDA 11.0',\n",
       " 'ODBC Driver 17 for SQL Server',\n",
       " 'Microsoft Access Driver (*.mdb, *.accdb)',\n",
       " 'Microsoft Excel Driver (*.xls, *.xlsx, *.xlsm, *.xlsb)',\n",
       " 'Microsoft Access Text Driver (*.txt, *.csv)']"
      ]
     },
     "execution_count": 2,
     "metadata": {},
     "output_type": "execute_result"
    }
   ],
   "source": [
    "pyodbc.drivers() #shows the various pyodbc drivers which can be used to establish connection to the SQL server"
   ]
  },
  {
   "cell_type": "markdown",
   "id": "dde7cef0-fbc4-42c8-a59b-79b712d48353",
   "metadata": {},
   "source": [
    "TASK 1: Establish a connection with the SQL Server"
   ]
  },
  {
   "cell_type": "code",
   "execution_count": 3,
   "id": "c1a3aea6-c424-42d1-bb28-c9c1ef8ca3b5",
   "metadata": {},
   "outputs": [],
   "source": [
    "conn = pyodbc.connect(DRIVER='{ODBC Driver 17 for SQL Server}', SERVER='DESKTOP-OOMGB8B\\SQLEXPRESS', DATABASE='leetcode_problems', Trusted_Connection='Yes')\n",
    "#assigned the connection to the variable \"conn\"."
   ]
  },
  {
   "cell_type": "markdown",
   "id": "c1a0765a-8432-48bb-b85a-231ae5b6d5fc",
   "metadata": {},
   "source": [
    "TASK 2a: Write a python program to fetch the required data from the SQL database"
   ]
  },
  {
   "cell_type": "code",
   "execution_count": 4,
   "id": "61b71f06-64e2-4fb2-9360-0424f1b2f61d",
   "metadata": {},
   "outputs": [],
   "source": [
    "cursor = conn.cursor() #creates an object \"cursor\" which can be used to execute SQL queries and fetch the result of the queries."
   ]
  },
  {
   "cell_type": "code",
   "execution_count": 5,
   "id": "1f212610-83b6-428d-9bf0-b016b4eb1530",
   "metadata": {},
   "outputs": [
    {
     "data": {
      "text/plain": [
       "<pyodbc.Cursor at 0x1d9994e14b0>"
      ]
     },
     "execution_count": 5,
     "metadata": {},
     "output_type": "execute_result"
    }
   ],
   "source": [
    "query = 'SELECT * FROM Employee' #assigns the SQL query to the variable 'query'.\n",
    "cursor.execute(query) #executes the query"
   ]
  },
  {
   "cell_type": "code",
   "execution_count": 6,
   "id": "0a9040d1-9541-4c6c-bd2b-508df4670c73",
   "metadata": {},
   "outputs": [],
   "source": [
    "data = cursor.fetchall() #fetchall for all the rows in the data. use fetchone for one row."
   ]
  },
  {
   "cell_type": "code",
   "execution_count": 7,
   "id": "e101a920-0723-47c0-8b70-fb8c789bbc0c",
   "metadata": {},
   "outputs": [
    {
     "name": "stdout",
     "output_type": "stream",
     "text": [
      "(101, 'John', 'A', None)\n",
      "(102, 'Dan', 'A', 101)\n",
      "(103, 'James', 'A', 101)\n",
      "(104, 'Amy', 'A', 101)\n",
      "(105, 'Anne', 'A', 101)\n",
      "(106, 'Ron', 'B', 101)\n"
     ]
    }
   ],
   "source": [
    "for row in data:\n",
    "    print(row) #loops through the records fetched by the query and prints the rows."
   ]
  },
  {
   "cell_type": "markdown",
   "id": "33b52c9f-482d-4f23-9e19-7c6ac94a3bd8",
   "metadata": {},
   "source": [
    "Task 2b: Read data from SQL into pandas DataFrame"
   ]
  },
  {
   "cell_type": "code",
   "execution_count": 8,
   "id": "b1fc5939-de36-4bf9-8f17-aa992a98f855",
   "metadata": {},
   "outputs": [
    {
     "name": "stderr",
     "output_type": "stream",
     "text": [
      "C:\\Users\\HP\\AppData\\Local\\Temp\\ipykernel_8164\\460919906.py:1: UserWarning: pandas only supports SQLAlchemy connectable (engine/connection) or database string URI or sqlite3 DBAPI2 connection. Other DBAPI2 objects are not tested. Please consider using SQLAlchemy.\n",
      "  df = pd.read_sql(sql=query, con=conn) #asigns the DataFrame to the variable 'df'.\n"
     ]
    }
   ],
   "source": [
    "df = pd.read_sql(sql=query, con=conn) #asigns the DataFrame to the variable 'df'."
   ]
  },
  {
   "cell_type": "code",
   "execution_count": 9,
   "id": "2a2df2b6-2ff5-4015-9fea-f648c2e9f76e",
   "metadata": {},
   "outputs": [
    {
     "data": {
      "text/html": [
       "<div>\n",
       "<style scoped>\n",
       "    .dataframe tbody tr th:only-of-type {\n",
       "        vertical-align: middle;\n",
       "    }\n",
       "\n",
       "    .dataframe tbody tr th {\n",
       "        vertical-align: top;\n",
       "    }\n",
       "\n",
       "    .dataframe thead th {\n",
       "        text-align: right;\n",
       "    }\n",
       "</style>\n",
       "<table border=\"1\" class=\"dataframe\">\n",
       "  <thead>\n",
       "    <tr style=\"text-align: right;\">\n",
       "      <th></th>\n",
       "      <th>id</th>\n",
       "      <th>name</th>\n",
       "      <th>department</th>\n",
       "      <th>managerId</th>\n",
       "    </tr>\n",
       "  </thead>\n",
       "  <tbody>\n",
       "    <tr>\n",
       "      <th>0</th>\n",
       "      <td>101</td>\n",
       "      <td>John</td>\n",
       "      <td>A</td>\n",
       "      <td>NaN</td>\n",
       "    </tr>\n",
       "    <tr>\n",
       "      <th>1</th>\n",
       "      <td>102</td>\n",
       "      <td>Dan</td>\n",
       "      <td>A</td>\n",
       "      <td>101.0</td>\n",
       "    </tr>\n",
       "    <tr>\n",
       "      <th>2</th>\n",
       "      <td>103</td>\n",
       "      <td>James</td>\n",
       "      <td>A</td>\n",
       "      <td>101.0</td>\n",
       "    </tr>\n",
       "    <tr>\n",
       "      <th>3</th>\n",
       "      <td>104</td>\n",
       "      <td>Amy</td>\n",
       "      <td>A</td>\n",
       "      <td>101.0</td>\n",
       "    </tr>\n",
       "    <tr>\n",
       "      <th>4</th>\n",
       "      <td>105</td>\n",
       "      <td>Anne</td>\n",
       "      <td>A</td>\n",
       "      <td>101.0</td>\n",
       "    </tr>\n",
       "    <tr>\n",
       "      <th>5</th>\n",
       "      <td>106</td>\n",
       "      <td>Ron</td>\n",
       "      <td>B</td>\n",
       "      <td>101.0</td>\n",
       "    </tr>\n",
       "  </tbody>\n",
       "</table>\n",
       "</div>"
      ],
      "text/plain": [
       "    id   name department  managerId\n",
       "0  101   John          A        NaN\n",
       "1  102    Dan          A      101.0\n",
       "2  103  James          A      101.0\n",
       "3  104    Amy          A      101.0\n",
       "4  105   Anne          A      101.0\n",
       "5  106    Ron          B      101.0"
      ]
     },
     "execution_count": 9,
     "metadata": {},
     "output_type": "execute_result"
    }
   ],
   "source": [
    "df"
   ]
  },
  {
   "cell_type": "markdown",
   "id": "b06e93bb-abc5-4931-9886-105d89e2175e",
   "metadata": {},
   "source": [
    "The DataFrame can then be used in exploratory data analysis, data visualization or machine learning model developments."
   ]
  }
 ],
 "metadata": {
  "kernelspec": {
   "display_name": "Python 3 (ipykernel)",
   "language": "python",
   "name": "python3"
  },
  "language_info": {
   "codemirror_mode": {
    "name": "ipython",
    "version": 3
   },
   "file_extension": ".py",
   "mimetype": "text/x-python",
   "name": "python",
   "nbconvert_exporter": "python",
   "pygments_lexer": "ipython3",
   "version": "3.11.7"
  }
 },
 "nbformat": 4,
 "nbformat_minor": 5
}
